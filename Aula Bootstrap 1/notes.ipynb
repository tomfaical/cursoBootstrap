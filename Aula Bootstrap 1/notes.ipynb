{
 "cells": [
  {
   "cell_type": "markdown",
   "metadata": {},
   "source": [
    "## **Bootstrap: Framework Front-End**\n",
    "\n",
    "### **Divisão:**\n",
    "\n",
    "- Front-End: *aparência da app*\n",
    "- Back-End: *funcionalidade da app*\n",
    "- Full-Stack: *integração de todas as partes*\n",
    "\n",
    "### **Bootstrap**\n",
    "- Criado em 2011 por Mark Otto e Jacob Thornton (trabalhavam no twitter)\n",
    "- Vantagens:\n",
    "    - Responsividade **automática** --> \"coloca infixos em partes do código, o que torna automaticamente responsivo\"\n",
    "    - Componentes **prontos** --> \"não precisa estilizar do zero, o próprio bootstrap já oferece uma série de facilitações\"\n",
    "    - Documentação **completa** --> \"a documentação do BS tem completa na internet, tornando mt facil de aprender\"\n",
    "    - Velocidade no desenvolvimento\n",
    "    - **Gratuito**\n",
    "- Quais são os materiais necessários para rodar o BS?\n",
    "    - Navegador atualizado --> Google Chrome\n",
    "    - Editor de código --> VSCode\n",
    "    - Internet --> precisa importar o bootstrap do repo online\n",
    "\n",
    "> ----------------------------------\n",
    "> ### Existem 2 formas de incluir o BootStrap no seu projeto\n",
    "> ----------------------------------\n",
    "\n",
    "**1a forma:**\n",
    "- Via CDN (\"Basicamente copiar o link e colar\")\n",
    "    - > ###### CDN (Content Delivery Network) é uma Rede de Distribuição de Conteúdo é um grupo de servidores que permitem que os conteúdos da internet estejam facilmente disponíveis, com rapidez e segurança. A rede é a responsável por melhorar a experiência do usuário enquanto usa os recursos dela de forma eficiente.\n",
    "    - Procurar \"Bootstrap 5\" no google: [esse site](https://getbootstrap.com/);\n",
    "    - Encontrar a seção \"Include via CDN\";\n",
    "    - Copiar o texto ([esse texto](<link href=\"https://cdn.jsdelivr.net/npm/bootstrap@5.3.3/dist/css/bootstrap.min.css\" rel=\"stylesheet\" integrity=\"sha384-QWTKZyjpPEjISv5WaRU9OFeRpok6YctnYmDr5pNlyT2bRjXh0JMhjY6hW+ALEwIH\" crossorigin=\"anonymous\">));\n",
    "    - Colar o texto em \"< head >\".\n",
    "\n",
    "---\n",
    "> **OU SEJA:**  O BootStrap é um arquivo style.css GIGANTE, pre-feito, do qual podemos simplesmente puxar propriedades diversas.\n",
    "---"
   ]
  }
 ],
 "metadata": {
  "language_info": {
   "name": "python"
  }
 },
 "nbformat": 4,
 "nbformat_minor": 2
}
